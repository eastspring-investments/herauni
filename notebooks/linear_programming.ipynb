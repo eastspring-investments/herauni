{
 "cells": [
  {
   "cell_type": "markdown",
   "id": "44fec49c-614b-43b4-b268-4487d42d3781",
   "metadata": {},
   "source": [
    "# Linear Programming (Linear Optimisation)"
   ]
  },
  {
   "cell_type": "markdown",
   "id": "8eea7850-b0ba-4ffb-bd2c-046c4d8d18e1",
   "metadata": {},
   "source": [
    "## Google Colab Settings"
   ]
  },
  {
   "cell_type": "code",
   "execution_count": 3,
   "id": "6f45540c-7c52-4361-b534-a49bc91c9889",
   "metadata": {},
   "outputs": [],
   "source": [
    "try:\n",
    "  import google.colab\n",
    "  COLAB = True\n",
    "except:\n",
    "  COLAB = False\n",
    "\n",
    "\n",
    "if COLAB:\n",
    "    ! wget https://repo.anaconda.com/miniconda/Miniconda3-py37_4.8.2-Linux-x86_64.sh\n",
    "    ! chmod +x Miniconda3-py37_4.8.2-Linux-x86_64.sh\n",
    "    ! bash ./Miniconda3-py37_4.8.2-Linux-x86_64.sh -b -f -p /usr/local\n",
    "    import sys\n",
    "    sys.path.append('/usr/local/lib/python3.7/site-packages/')\n",
    "\n",
    "    ! conda install -c conda-forge pyomo -y\n",
    "    ! conda install -c conda-forge pyomo.extras -y\n",
    "    ! conda install -c conda-forge coincbc -y\n",
    "    ! conda install -c conda-forge ipopt -y\n",
    "    ! conda install -c conda-forge glpk -y"
   ]
  },
  {
   "cell_type": "markdown",
   "id": "1dcb369c-d37c-4d59-858e-0042983ad916",
   "metadata": {},
   "source": [
    "## Imports"
   ]
  },
  {
   "cell_type": "code",
   "execution_count": 1,
   "id": "f6fbbf6b-ae89-4d10-9e18-3d8a9f14194b",
   "metadata": {},
   "outputs": [],
   "source": [
    "from pyomo.environ import *\n",
    "from pyomo.opt import SolverFactory"
   ]
  },
  {
   "cell_type": "markdown",
   "id": "87b4ef2b-eecb-4330-9bc9-cd05e7a35f2a",
   "metadata": {},
   "source": [
    "## Basic LP Problem: Example 1\n",
    "\n",
    "### Problem statement\n",
    "- **We are holding a corporate pizza & prosecco party in a division and we need to optimise how many pizza and prosecco to buy**\n",
    "    - We have 20 people\n",
    "    - Each pizza costs \\$30\n",
    "    - Each prosecco costs \\$50\n",
    "    - Every staff drinks at least half a bottle of prosecco\n",
    "    - Every staff eats at least 2 slices of pizza"
   ]
  },
  {
   "cell_type": "markdown",
   "id": "29621022-8b97-4872-ae9e-71bff7a86371",
   "metadata": {},
   "source": [
    "### Step 1: Define Decision Variables"
   ]
  },
  {
   "cell_type": "code",
   "execution_count": 2,
   "id": "33074e7d-e114-4777-9877-4b7a1b18be86",
   "metadata": {},
   "outputs": [],
   "source": [
    "# Instantiate model and assign to model object\n",
    "model = ConcreteModel()"
   ]
  },
  {
   "cell_type": "code",
   "execution_count": 3,
   "id": "a52a5ff4-2ff7-474b-ae7b-c8ce08ee940c",
   "metadata": {},
   "outputs": [],
   "source": [
    "# Define variables\n",
    "model.n_pizza = Var(domain=NonNegativeReals)\n",
    "model.n_prosecco = Var(domain=NonNegativeReals)"
   ]
  },
  {
   "cell_type": "markdown",
   "id": "f07c409c-223b-4989-866f-d810926b1afb",
   "metadata": {},
   "source": [
    "### Step 2: Define Objective Function"
   ]
  },
  {
   "cell_type": "code",
   "execution_count": 4,
   "id": "ba2fbdcb-e266-47c9-88ba-7414a0b91b6c",
   "metadata": {},
   "outputs": [],
   "source": [
    "# Number of people \n",
    "n_people = 20"
   ]
  },
  {
   "cell_type": "code",
   "execution_count": 5,
   "id": "9457f946-b260-415e-9910-6d752c91b9d3",
   "metadata": {},
   "outputs": [],
   "source": [
    "# Unit costs\n",
    "unit_costs = {\n",
    "    'pizza': 30,\n",
    "    'prosecco': 50\n",
    "}"
   ]
  },
  {
   "cell_type": "code",
   "execution_count": 6,
   "id": "5892e3a8-ff3b-4c00-b9f5-83b4d3fa7328",
   "metadata": {},
   "outputs": [],
   "source": [
    "# Objective function \n",
    "model.cost = Objective(expr=unit_costs['pizza']*model.n_pizza + \\\n",
    "                       unit_costs['prosecco']*model.n_prosecco)"
   ]
  },
  {
   "cell_type": "markdown",
   "id": "27f0cb21-a759-47d5-9293-b8b186c1a102",
   "metadata": {},
   "source": [
    "### Step 3: Define Constraints"
   ]
  },
  {
   "cell_type": "code",
   "execution_count": 7,
   "id": "b20f2633-e66e-46ba-b59f-8c91d772104c",
   "metadata": {
    "tags": []
   },
   "outputs": [],
   "source": [
    "# Contraint 1: each person drinks at least half a bottle of prosecco \n",
    "model.prosecco_demand = Constraint(expr = model.n_prosecco >= 0.5 * n_people)\n",
    "\n",
    "# Constraint 2: each person eats at least 2 slices of pizza\n",
    "# Each has 6 slices\n",
    "model.pizza_demand = Constraint(expr = model.n_pizza >= (2/6) * n_people)"
   ]
  },
  {
   "cell_type": "markdown",
   "id": "c1d7bf63-f36a-4838-88f7-b5280b850941",
   "metadata": {},
   "source": [
    "### Step 4: Solve "
   ]
  },
  {
   "cell_type": "code",
   "execution_count": 8,
   "id": "4a26b105-93c1-4ec5-a5df-7be38bd4d480",
   "metadata": {},
   "outputs": [
    {
     "name": "stdout",
     "output_type": "stream",
     "text": [
      "# ==========================================================\n",
      "# = Solver Results                                         =\n",
      "# ==========================================================\n",
      "# ----------------------------------------------------------\n",
      "#   Problem Information\n",
      "# ----------------------------------------------------------\n",
      "Problem: \n",
      "- Name: unknown\n",
      "  Lower bound: 700.0\n",
      "  Upper bound: 700.0\n",
      "  Number of objectives: 1\n",
      "  Number of constraints: 3\n",
      "  Number of variables: 3\n",
      "  Number of nonzeros: 3\n",
      "  Sense: minimize\n",
      "# ----------------------------------------------------------\n",
      "#   Solver Information\n",
      "# ----------------------------------------------------------\n",
      "Solver: \n",
      "- Status: ok\n",
      "  Termination condition: optimal\n",
      "  Statistics: \n",
      "    Branch and bound: \n",
      "      Number of bounded subproblems: 0\n",
      "      Number of created subproblems: 0\n",
      "  Error rc: 0\n",
      "  Time: 0.022398948669433594\n",
      "# ----------------------------------------------------------\n",
      "#   Solution Information\n",
      "# ----------------------------------------------------------\n",
      "Solution: \n",
      "- number of solutions: 0\n",
      "  number of solutions displayed: 0\n",
      "2 Var Declarations\n",
      "    n_pizza : Size=1, Index=None\n",
      "        Key  : Lower : Value            : Upper : Fixed : Stale : Domain\n",
      "        None :     0 : 6.66666666666667 :  None : False : False : NonNegativeReals\n",
      "    n_prosecco : Size=1, Index=None\n",
      "        Key  : Lower : Value : Upper : Fixed : Stale : Domain\n",
      "        None :     0 :  10.0 :  None : False : False : NonNegativeReals\n",
      "\n",
      "1 Objective Declarations\n",
      "    cost : Size=1, Index=None, Active=True\n",
      "        Key  : Active : Sense    : Expression\n",
      "        None :   True : minimize : 30*n_pizza + 50*n_prosecco\n",
      "\n",
      "2 Constraint Declarations\n",
      "    pizza_demand : Size=1, Index=None, Active=True\n",
      "        Key  : Lower             : Body    : Upper : Active\n",
      "        None : 6.666666666666666 : n_pizza :  +Inf :   True\n",
      "    prosecco_demand : Size=1, Index=None, Active=True\n",
      "        Key  : Lower : Body       : Upper : Active\n",
      "        None :  10.0 : n_prosecco :  +Inf :   True\n",
      "\n",
      "5 Declarations: n_pizza n_prosecco cost prosecco_demand pizza_demand\n"
     ]
    }
   ],
   "source": [
    "# Solve linear model\n",
    "# Currenly using GPLK\n",
    "# Other powerful commercial optimisers can be used like Gurobi or CPLEX\n",
    "results = SolverFactory('glpk').solve(model)\n",
    "\n",
    "results.write()\n",
    "if results.solver.status == 'ok':\n",
    "    model.pprint()\n"
   ]
  },
  {
   "cell_type": "markdown",
   "id": "0fb6c96a-caff-474d-86d9-9f2d400184c4",
   "metadata": {},
   "source": [
    "### Step 5: Analyse"
   ]
  },
  {
   "cell_type": "code",
   "execution_count": 9,
   "id": "d217947e-ae5b-496a-974d-864007bef06a",
   "metadata": {},
   "outputs": [
    {
     "name": "stdout",
     "output_type": "stream",
     "text": [
      "\n",
      "Cost =  700.0000000000001\n",
      "\n",
      "Decision Variables\n",
      "Number of Pizza =  6.66666666666667\n",
      "Number of Prosecco =  10.0\n",
      "\n",
      "Constraints\n",
      "Pizza Demand  =  6.66666666666667\n",
      "Prosecco Demand =  10.0\n"
     ]
    }
   ],
   "source": [
    "# Display solution\n",
    "print('\\nCost = ', model.cost())\n",
    "\n",
    "print('\\nDecision Variables')\n",
    "print('Number of Pizza = ', model.n_pizza())\n",
    "print('Number of Prosecco = ', model.n_prosecco())\n",
    "\n",
    "print('\\nConstraints')\n",
    "print('Pizza Demand  = ', model.pizza_demand())\n",
    "print('Prosecco Demand = ', model.prosecco_demand())"
   ]
  },
  {
   "cell_type": "markdown",
   "id": "3a404266-c6e7-47a5-b2d8-a1aa143dec3c",
   "metadata": {},
   "source": [
    "## Basic LP Problem: Example 2"
   ]
  },
  {
   "cell_type": "markdown",
   "id": "6ed118a4-015c-474a-8b46-878d43796e79",
   "metadata": {},
   "source": [
    "### Problem Statement\n",
    "- **We have quant developers in 10 countries and we want to have 24 hours trading coverage**\n",
    "    - Original QD count\n",
    "        - Singapore: 4\n",
    "        - London: 4\n",
    "        - New York: 4\n",
    "        - Vietnam: 3\n",
    "        - India: 3\n",
    "        - Hong Kong: 2\n",
    "        - Indonesia: 2\n",
    "        - Malaysia: 2\n",
    "        - Taiwan: 2\n",
    "        - Korea: 3\n",
    "    - Asia coverage: we must have at least 6 quant developers at any point in time\n",
    "        - Only Singapore, Vietnam, India, Hong Kong, Indonesia, Malaysia, Taiwan and Korea can handle Asia time zone\n",
    "    - UK coverage: we must have at least 4 quant developers at any point in time\n",
    "        - Only London and New York can handle UK time zone\n",
    "        - Singapore, Hong Kong, India and Vietnam can handle UK time zone at 20% extra compensation\n",
    "    - US coverage: we must have at least 4 quant developers at any point in time\n",
    "        - Only London and New York can handle US time zone\n",
    "        - Singapore, Hong Kong and India can handle US time zone at 30% extra compensation\n",
    "    - New QD count: after leave/medical/resignations\n",
    "        - Singapore: 1\n",
    "        - London: 1\n",
    "        - New York: 1\n",
    "        - Vietnam: 3\n",
    "        - India: 3\n",
    "        - Hong Kong: 2\n",
    "        - Indonesia: 2\n",
    "        - Malaysia: 2\n",
    "        - Taiwan: 2\n",
    "        - Korea: 3"
   ]
  },
  {
   "cell_type": "code",
   "execution_count": 10,
   "id": "bdc6e5a9-536e-425d-985d-f833cfae2c76",
   "metadata": {},
   "outputs": [],
   "source": [
    "# Problem frame\n",
    "# Different number of quant developers in each LBU\n",
    "\n",
    "# Decision variables\n",
    "# How many quant devs per country\n",
    "\n",
    "# Constraints\n",
    "# Cover 24 hours trading day covering SG/HK, JP, UK, US\n",
    "\n",
    "# At least 2 quant dev covering each major zone"
   ]
  },
  {
   "cell_type": "code",
   "execution_count": null,
   "id": "a5601274-8701-49d5-8f62-2881dc42c3d3",
   "metadata": {},
   "outputs": [],
   "source": []
  },
  {
   "cell_type": "code",
   "execution_count": null,
   "id": "8afd48a8-79d9-443c-b1e9-bf05dbcfad98",
   "metadata": {},
   "outputs": [],
   "source": []
  },
  {
   "cell_type": "code",
   "execution_count": null,
   "id": "bf8ec82a-8b77-4f08-8c8e-53a7310dcb43",
   "metadata": {},
   "outputs": [],
   "source": []
  },
  {
   "cell_type": "code",
   "execution_count": null,
   "id": "8c0a09f7-3f70-47fe-a9a2-8446f7bdde01",
   "metadata": {},
   "outputs": [],
   "source": []
  }
 ],
 "metadata": {
  "kernelspec": {
   "display_name": "Python 3 (ipykernel)",
   "language": "python",
   "name": "python3"
  },
  "language_info": {
   "codemirror_mode": {
    "name": "ipython",
    "version": 3
   },
   "file_extension": ".py",
   "mimetype": "text/x-python",
   "name": "python",
   "nbconvert_exporter": "python",
   "pygments_lexer": "ipython3",
   "version": "3.9.7"
  }
 },
 "nbformat": 4,
 "nbformat_minor": 5
}
