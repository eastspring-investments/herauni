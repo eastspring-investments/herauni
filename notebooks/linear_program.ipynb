{
 "cells": [
  {
   "cell_type": "markdown",
   "id": "44fec49c-614b-43b4-b268-4487d42d3781",
   "metadata": {},
   "source": [
    "# Linear Program\n",
    "[![Open In Colab](https://colab.research.google.com/assets/colab-badge.svg)](https://colab.research.google.com/github/eastspring-investments/herauni/blob/main/notebooks/linear_programming.ipynb)"
   ]
  },
  {
   "cell_type": "markdown",
   "id": "8eea7850-b0ba-4ffb-bd2c-046c4d8d18e1",
   "metadata": {},
   "source": [
    "## Google Colab Settings"
   ]
  },
  {
   "cell_type": "code",
   "execution_count": 74,
   "id": "6f45540c-7c52-4361-b534-a49bc91c9889",
   "metadata": {},
   "outputs": [],
   "source": [
    "try:\n",
    "  import google.colab\n",
    "  COLAB = True\n",
    "except:\n",
    "  COLAB = False\n",
    "\n",
    "\n",
    "if COLAB:\n",
    "    ! wget https://repo.anaconda.com/miniconda/Miniconda3-py37_4.8.2-Linux-x86_64.sh\n",
    "    ! chmod +x Miniconda3-py37_4.8.2-Linux-x86_64.sh\n",
    "    ! bash ./Miniconda3-py37_4.8.2-Linux-x86_64.sh -b -f -p /usr/local\n",
    "    import sys\n",
    "    sys.path.append('/usr/local/lib/python3.7/site-packages/')\n",
    "\n",
    "    ! conda install -c conda-forge pyomo -y\n",
    "    ! conda install -c conda-forge pyomo.extras -y\n",
    "    ! conda install -c conda-forge coincbc -y\n",
    "    ! conda install -c conda-forge ipopt -y\n",
    "    ! conda install -c conda-forge glpk -y"
   ]
  },
  {
   "cell_type": "markdown",
   "id": "1dcb369c-d37c-4d59-858e-0042983ad916",
   "metadata": {},
   "source": [
    "## Imports"
   ]
  },
  {
   "cell_type": "code",
   "execution_count": 75,
   "id": "f6fbbf6b-ae89-4d10-9e18-3d8a9f14194b",
   "metadata": {},
   "outputs": [],
   "source": [
    "from pyomo.environ import *\n",
    "from pyomo.opt import SolverFactory"
   ]
  },
  {
   "cell_type": "markdown",
   "id": "87b4ef2b-eecb-4330-9bc9-cd05e7a35f2a",
   "metadata": {},
   "source": [
    "## Basic LP Problem: Example 1\n",
    "\n",
    "### Problem statement\n",
    "- **We are holding a corporate pizza & prosecco party in a division and we need to optimise how many pizza and prosecco to buy**\n",
    "    - We have 20 people\n",
    "    - Each **pizza** costs \\$30\n",
    "    - Each **prosecco** costs \\$50\n",
    "    - CONSTRAINTS\n",
    "        - Every staff drinks at least half a bottle of prosecco\n",
    "        - Every staff eats at least 2 slices of pizza"
   ]
  },
  {
   "cell_type": "markdown",
   "id": "29621022-8b97-4872-ae9e-71bff7a86371",
   "metadata": {},
   "source": [
    "### Step 1: Define Decision Variables\n",
    "- DEFINE HOW MANY PIZZA & PROSECCO TO BUY"
   ]
  },
  {
   "cell_type": "code",
   "execution_count": 91,
   "id": "33074e7d-e114-4777-9877-4b7a1b18be86",
   "metadata": {},
   "outputs": [],
   "source": [
    "# Instantiate model and assign to model object\n",
    "model = ConcreteModel()"
   ]
  },
  {
   "cell_type": "code",
   "execution_count": 92,
   "id": "a52a5ff4-2ff7-474b-ae7b-c8ce08ee940c",
   "metadata": {},
   "outputs": [],
   "source": [
    "# Define variables\n",
    "model.n_pizza = Var(domain=NonNegativeIntegers)\n",
    "model.n_prosecco = Var(domain=NonNegativeIntegers)"
   ]
  },
  {
   "cell_type": "markdown",
   "id": "f07c409c-223b-4989-866f-d810926b1afb",
   "metadata": {},
   "source": [
    "### Step 2: Define Objective Function\n",
    "- 30 * number pizza + 50 * number of prosecco"
   ]
  },
  {
   "cell_type": "code",
   "execution_count": 93,
   "id": "ba2fbdcb-e266-47c9-88ba-7414a0b91b6c",
   "metadata": {},
   "outputs": [],
   "source": [
    "# Number of people \n",
    "n_people = 20"
   ]
  },
  {
   "cell_type": "code",
   "execution_count": 94,
   "id": "9457f946-b260-415e-9910-6d752c91b9d3",
   "metadata": {},
   "outputs": [],
   "source": [
    "# Unit costs\n",
    "unit_costs = {\n",
    "    'pizza': 30,\n",
    "    'prosecco': 50\n",
    "}"
   ]
  },
  {
   "cell_type": "code",
   "execution_count": 95,
   "id": "5892e3a8-ff3b-4c00-b9f5-83b4d3fa7328",
   "metadata": {},
   "outputs": [],
   "source": [
    "# Objective function \n",
    "model.cost = Objective(expr=unit_costs['pizza']*model.n_pizza + \\\n",
    "                       unit_costs['prosecco']*model.n_prosecco)"
   ]
  },
  {
   "cell_type": "markdown",
   "id": "27f0cb21-a759-47d5-9293-b8b186c1a102",
   "metadata": {},
   "source": [
    "### Step 3: Define Constraints"
   ]
  },
  {
   "cell_type": "code",
   "execution_count": 96,
   "id": "b20f2633-e66e-46ba-b59f-8c91d772104c",
   "metadata": {
    "tags": []
   },
   "outputs": [],
   "source": [
    "# Contraint 1: each person drinks at least half a bottle of prosecco \n",
    "model.prosecco_demand = Constraint(expr = model.n_prosecco >= 0.5 * n_people)\n",
    "\n",
    "# Constraint 2: each person eats at least 2 slices of pizza\n",
    "# Each has 6 slices\n",
    "model.pizza_demand = Constraint(expr = model.n_pizza >= (2/6) * n_people)"
   ]
  },
  {
   "cell_type": "markdown",
   "id": "c1d7bf63-f36a-4838-88f7-b5280b850941",
   "metadata": {},
   "source": [
    "### Step 4: Solve "
   ]
  },
  {
   "cell_type": "code",
   "execution_count": 97,
   "id": "4a26b105-93c1-4ec5-a5df-7be38bd4d480",
   "metadata": {},
   "outputs": [
    {
     "name": "stdout",
     "output_type": "stream",
     "text": [
      "# ==========================================================\n",
      "# = Solver Results                                         =\n",
      "# ==========================================================\n",
      "# ----------------------------------------------------------\n",
      "#   Problem Information\n",
      "# ----------------------------------------------------------\n",
      "Problem: \n",
      "- Name: unknown\n",
      "  Lower bound: 710.0\n",
      "  Upper bound: 710.0\n",
      "  Number of objectives: 1\n",
      "  Number of constraints: 3\n",
      "  Number of variables: 3\n",
      "  Number of nonzeros: 3\n",
      "  Sense: minimize\n",
      "# ----------------------------------------------------------\n",
      "#   Solver Information\n",
      "# ----------------------------------------------------------\n",
      "Solver: \n",
      "- Status: ok\n",
      "  Termination condition: optimal\n",
      "  Statistics: \n",
      "    Branch and bound: \n",
      "      Number of bounded subproblems: 0\n",
      "      Number of created subproblems: 0\n",
      "  Error rc: 0\n",
      "  Time: 0.006757259368896484\n",
      "# ----------------------------------------------------------\n",
      "#   Solution Information\n",
      "# ----------------------------------------------------------\n",
      "Solution: \n",
      "- number of solutions: 0\n",
      "  number of solutions displayed: 0\n",
      "2 Var Declarations\n",
      "    n_pizza : Size=1, Index=None\n",
      "        Key  : Lower : Value : Upper : Fixed : Stale : Domain\n",
      "        None :     0 :   7.0 :  None : False : False : NonNegativeIntegers\n",
      "    n_prosecco : Size=1, Index=None\n",
      "        Key  : Lower : Value : Upper : Fixed : Stale : Domain\n",
      "        None :     0 :  10.0 :  None : False : False : NonNegativeIntegers\n",
      "\n",
      "1 Objective Declarations\n",
      "    cost : Size=1, Index=None, Active=True\n",
      "        Key  : Active : Sense    : Expression\n",
      "        None :   True : minimize : 30*n_pizza + 50*n_prosecco\n",
      "\n",
      "2 Constraint Declarations\n",
      "    pizza_demand : Size=1, Index=None, Active=True\n",
      "        Key  : Lower             : Body    : Upper : Active\n",
      "        None : 6.666666666666666 : n_pizza :  +Inf :   True\n",
      "    prosecco_demand : Size=1, Index=None, Active=True\n",
      "        Key  : Lower : Body       : Upper : Active\n",
      "        None :  10.0 : n_prosecco :  +Inf :   True\n",
      "\n",
      "5 Declarations: n_pizza n_prosecco cost prosecco_demand pizza_demand\n"
     ]
    }
   ],
   "source": [
    "# Solve linear model\n",
    "# Currenly using GPLK\n",
    "# Other powerful commercial optimisers can be used like Gurobi or CPLEX\n",
    "results = SolverFactory('glpk').solve(model)\n",
    "\n",
    "results.write()\n",
    "if results.solver.status == 'ok':\n",
    "    model.pprint()\n"
   ]
  },
  {
   "cell_type": "markdown",
   "id": "0fb6c96a-caff-474d-86d9-9f2d400184c4",
   "metadata": {},
   "source": [
    "### Step 5: Analyse"
   ]
  },
  {
   "cell_type": "code",
   "execution_count": 98,
   "id": "d217947e-ae5b-496a-974d-864007bef06a",
   "metadata": {},
   "outputs": [
    {
     "name": "stdout",
     "output_type": "stream",
     "text": [
      "\n",
      "Cost =  710.0\n",
      "\n",
      "Decision Variables\n",
      "Number of Pizza =  7.0\n",
      "Number of Prosecco =  10.0\n",
      "\n",
      "Constraints\n"
     ]
    }
   ],
   "source": [
    "# Display solution\n",
    "print('\\nCost = ', model.cost())\n",
    "\n",
    "print('\\nDecision Variables')\n",
    "print('Number of Pizza = ', model.n_pizza())\n",
    "print('Number of Prosecco = ', model.n_prosecco())\n",
    "\n",
    "print('\\nConstraints')\n",
    "#print('Pizza Demand  = ', model.pizza_demand())\n",
    "#print('Prosecco Demand = ', model.prosecco_demand())"
   ]
  },
  {
   "cell_type": "markdown",
   "id": "0be1a76b-cb36-4c60-b572-f8e9c694a5a9",
   "metadata": {},
   "source": [
    "## Basic LP Problem: Example 2\n",
    "- Let's build a roboadvisor to optimise for portfolio allocation!\n",
    "\n",
    "| Fund Name  | Risk Level | Category               | Average Annual Return (ARR) |\n",
    "|------------|------------|------------------------|-----------------------------|\n",
    "| Fund One   | 1          | Money market fund      | 4.5                         |\n",
    "| Fund Two   | 2          | Money market fund      | 5.62                        |\n",
    "| Fund Three | 2          | Bond fund              | 6.8                         |\n",
    "| Fund Four  | 3          | High yield bond fund   | 10.15                       |\n",
    "| Fund Five  | 5          | Aggressive growth fund | 20.6                        |\n",
    "\n",
    "- Risk scale of 1 (very conservative) to 5 (very risky). \n",
    "- We have 10,000 USD\n",
    "- Maximise the average annual return on investment, subject to the following restrictions:\n",
    "    - The average risk level of the entire investment should not exceed 2.5\n",
    "    - At least 30% of the investment should be placed in money market funds\n",
    "    - At most 2,000 USD should be invested in the aggressive growth fund."
   ]
  },
  {
   "cell_type": "markdown",
   "id": "288ebae5-2540-4a0b-bed9-950c2ef5d32c",
   "metadata": {},
   "source": [
    "### Step 1: Define Decision Variables"
   ]
  },
  {
   "cell_type": "code",
   "execution_count": 100,
   "id": "ecab9b23-7a19-4da5-81db-b3fb48d201ae",
   "metadata": {},
   "outputs": [],
   "source": [
    "# Instantiate model and assign to model object\n",
    "model = ConcreteModel()"
   ]
  },
  {
   "cell_type": "code",
   "execution_count": 101,
   "id": "cb4459c6-3862-4419-9212-791794939a40",
   "metadata": {},
   "outputs": [],
   "source": [
    "# Define variables\n",
    "model.allocation_fund_1 = Var(domain=NonNegativeReals)\n",
    "model.allocation_fund_2 = Var(domain=NonNegativeReals)\n",
    "model.allocation_fund_3 = Var(domain=NonNegativeReals)\n",
    "model.allocation_fund_4 = Var(domain=NonNegativeReals)\n",
    "model.allocation_fund_5 = Var(domain=NonNegativeReals)"
   ]
  },
  {
   "cell_type": "markdown",
   "id": "cfd1decc-1fb3-47f7-83c4-5ec1a70b8279",
   "metadata": {},
   "source": [
    "### Step 2: Define Objective Function\n",
    "- TRYING TO MAXIMIZE THE RETURN OF OUR 10,000 USD"
   ]
  },
  {
   "cell_type": "code",
   "execution_count": 102,
   "id": "5587180c-048b-458f-a7a4-89c131ed9a26",
   "metadata": {},
   "outputs": [],
   "source": [
    "# Objective function \n",
    "model.cost = Objective(expr=(4.5 * model.allocation_fund_1 + \\\n",
    "                       5.62 * model.allocation_fund_2 + \\\n",
    "                       6.8 * model.allocation_fund_3 + \\\n",
    "                       10.15 * model.allocation_fund_4 + \\\n",
    "                       20.6 * model.allocation_fund_5)/100, sense=maximize)"
   ]
  },
  {
   "cell_type": "markdown",
   "id": "8bee2a6b-8664-41f0-965c-625264cc1361",
   "metadata": {},
   "source": [
    "### Step 3: Define Constraints"
   ]
  },
  {
   "cell_type": "code",
   "execution_count": 103,
   "id": "cd66ae4e-8e47-4bf5-adca-3d9af1ff4d37",
   "metadata": {},
   "outputs": [],
   "source": [
    "# Total cash allocation\n",
    "model.total_cash = Constraint(expr=model.allocation_fund_1 + \\\n",
    "                              model.allocation_fund_2 + \\\n",
    "                              model.allocation_fund_3 + \\\n",
    "                              model.allocation_fund_4 + \\\n",
    "                              model.allocation_fund_5 <= 10000\n",
    "                             )"
   ]
  },
  {
   "cell_type": "code",
   "execution_count": 104,
   "id": "75be9252-b4cb-4a56-babf-dd417488bf1c",
   "metadata": {},
   "outputs": [],
   "source": [
    "# Mean Risk\n",
    "# The average risk level of the entire investment should not exceed 2.5\n",
    "model.mean_risk = Constraint(expr=(model.allocation_fund_1 + \\\n",
    "                              2*model.allocation_fund_2 + \\\n",
    "                              2*model.allocation_fund_3 + \\\n",
    "                              3*model.allocation_fund_4 + \\\n",
    "                              5*model.allocation_fund_5) / 10000 <= 2.5)"
   ]
  },
  {
   "cell_type": "code",
   "execution_count": 105,
   "id": "b4863a8a-4b42-417b-8c39-546e997247f9",
   "metadata": {},
   "outputs": [],
   "source": [
    "# Money Market Exposure\n",
    "# At least 30% of the investment should be placed in money market funds\n",
    "model.mm_exposure = Constraint(expr=model.allocation_fund_1 + \\\n",
    "                              model.allocation_fund_2 >= 3000)"
   ]
  },
  {
   "cell_type": "code",
   "execution_count": 106,
   "id": "4623fd3c-8c49-402f-8403-5a6f9471c421",
   "metadata": {},
   "outputs": [],
   "source": [
    "# Aggressive Growth Exposure\n",
    "# At most 2,000 USD should be invested in the aggressive growth fund.\n",
    "model.ag_exposure = Constraint(expr=model.allocation_fund_5 <= 2000)"
   ]
  },
  {
   "cell_type": "markdown",
   "id": "b66e23f5-d687-4663-90e7-e37d048154c1",
   "metadata": {},
   "source": [
    "### Step 4: Solve "
   ]
  },
  {
   "cell_type": "code",
   "execution_count": 107,
   "id": "f508107e-1ef8-40a4-82f2-6c610478e085",
   "metadata": {},
   "outputs": [
    {
     "name": "stdout",
     "output_type": "stream",
     "text": [
      "# ==========================================================\n",
      "# = Solver Results                                         =\n",
      "# ==========================================================\n",
      "# ----------------------------------------------------------\n",
      "#   Problem Information\n",
      "# ----------------------------------------------------------\n",
      "Problem: \n",
      "- Name: unknown\n",
      "  Lower bound: 969.75\n",
      "  Upper bound: 969.75\n",
      "  Number of objectives: 1\n",
      "  Number of constraints: 5\n",
      "  Number of variables: 6\n",
      "  Number of nonzeros: 14\n",
      "  Sense: maximize\n",
      "# ----------------------------------------------------------\n",
      "#   Solver Information\n",
      "# ----------------------------------------------------------\n",
      "Solver: \n",
      "- Status: ok\n",
      "  Termination condition: optimal\n",
      "  Statistics: \n",
      "    Branch and bound: \n",
      "      Number of bounded subproblems: 0\n",
      "      Number of created subproblems: 0\n",
      "  Error rc: 0\n",
      "  Time: 0.007001399993896484\n",
      "# ----------------------------------------------------------\n",
      "#   Solution Information\n",
      "# ----------------------------------------------------------\n",
      "Solution: \n",
      "- number of solutions: 0\n",
      "  number of solutions displayed: 0\n",
      "5 Var Declarations\n",
      "    allocation_fund_1 : Size=1, Index=None\n",
      "        Key  : Lower : Value  : Upper : Fixed : Stale : Domain\n",
      "        None :     0 : 4500.0 :  None : False : False : NonNegativeReals\n",
      "    allocation_fund_2 : Size=1, Index=None\n",
      "        Key  : Lower : Value : Upper : Fixed : Stale : Domain\n",
      "        None :     0 :   0.0 :  None : False : False : NonNegativeReals\n",
      "    allocation_fund_3 : Size=1, Index=None\n",
      "        Key  : Lower : Value : Upper : Fixed : Stale : Domain\n",
      "        None :     0 :   0.0 :  None : False : False : NonNegativeReals\n",
      "    allocation_fund_4 : Size=1, Index=None\n",
      "        Key  : Lower : Value  : Upper : Fixed : Stale : Domain\n",
      "        None :     0 : 3500.0 :  None : False : False : NonNegativeReals\n",
      "    allocation_fund_5 : Size=1, Index=None\n",
      "        Key  : Lower : Value  : Upper : Fixed : Stale : Domain\n",
      "        None :     0 : 2000.0 :  None : False : False : NonNegativeReals\n",
      "\n",
      "1 Objective Declarations\n",
      "    cost : Size=1, Index=None, Active=True\n",
      "        Key  : Active : Sense    : Expression\n",
      "        None :   True : maximize : (4.5*allocation_fund_1 + 5.62*allocation_fund_2 + 6.8*allocation_fund_3 + 10.15*allocation_fund_4 + 20.6*allocation_fund_5)/100\n",
      "\n",
      "4 Constraint Declarations\n",
      "    ag_exposure : Size=1, Index=None, Active=True\n",
      "        Key  : Lower : Body              : Upper  : Active\n",
      "        None :  -Inf : allocation_fund_5 : 2000.0 :   True\n",
      "    mean_risk : Size=1, Index=None, Active=True\n",
      "        Key  : Lower : Body                                                                                                              : Upper : Active\n",
      "        None :  -Inf : (allocation_fund_1 + 2*allocation_fund_2 + 2*allocation_fund_3 + 3*allocation_fund_4 + 5*allocation_fund_5)/10000 :   2.5 :   True\n",
      "    mm_exposure : Size=1, Index=None, Active=True\n",
      "        Key  : Lower  : Body                                  : Upper : Active\n",
      "        None : 3000.0 : allocation_fund_1 + allocation_fund_2 :  +Inf :   True\n",
      "    total_cash : Size=1, Index=None, Active=True\n",
      "        Key  : Lower : Body                                                                                              : Upper   : Active\n",
      "        None :  -Inf : allocation_fund_1 + allocation_fund_2 + allocation_fund_3 + allocation_fund_4 + allocation_fund_5 : 10000.0 :   True\n",
      "\n",
      "10 Declarations: allocation_fund_1 allocation_fund_2 allocation_fund_3 allocation_fund_4 allocation_fund_5 cost total_cash mean_risk mm_exposure ag_exposure\n"
     ]
    }
   ],
   "source": [
    "# Solve linear model\n",
    "# Currenly using GPLK\n",
    "# Other powerful commercial optimisers can be used like Gurobi or CPLEX\n",
    "results = SolverFactory('glpk').solve(model)\n",
    "\n",
    "results.write()\n",
    "if results.solver.status == 'ok':\n",
    "    model.pprint()"
   ]
  },
  {
   "cell_type": "code",
   "execution_count": 108,
   "id": "6325aefb-6254-4960-95c0-49fb1f962cb6",
   "metadata": {},
   "outputs": [
    {
     "name": "stdout",
     "output_type": "stream",
     "text": [
      "\n",
      "Return =  969.75\n",
      "\n",
      "Decision Variables\n",
      "Allocation to fund 1 4500.0\n",
      "Allocation to fund 2 0.0\n",
      "Allocation to fund 3 0.0\n",
      "Allocation to fund 4 3500.0\n",
      "Allocation to fund 5 2000.0\n",
      "--------------------------------------------------\n",
      "\n",
      "Constraints\n",
      "Total cash 10000.0\n",
      "Mean risk 2.5\n",
      "Money market exposure 4500.0\n",
      "Aggressive growth exposure 2000.0\n"
     ]
    }
   ],
   "source": [
    "# Display solution\n",
    "print('\\nReturn = ', model.cost())\n",
    "\n",
    "print('\\nDecision Variables')\n",
    "print('Allocation to fund 1', model.allocation_fund_1())\n",
    "print('Allocation to fund 2', model.allocation_fund_2())\n",
    "print('Allocation to fund 3', model.allocation_fund_3())\n",
    "print('Allocation to fund 4', model.allocation_fund_4())\n",
    "print('Allocation to fund 5', model.allocation_fund_5())\n",
    "\n",
    "print('-'*50)\n",
    "\n",
    "print('\\nConstraints')\n",
    "print('Total cash', model.total_cash())\n",
    "print('Mean risk', model.mean_risk())\n",
    "print('Money market exposure', model.mm_exposure())\n",
    "print('Aggressive growth exposure', model.ag_exposure())"
   ]
  },
  {
   "cell_type": "markdown",
   "id": "3a404266-c6e7-47a5-b2d8-a1aa143dec3c",
   "metadata": {},
   "source": [
    "## Basic LP Problem: Example 3 (Practice)"
   ]
  },
  {
   "cell_type": "markdown",
   "id": "6ed118a4-015c-474a-8b46-878d43796e79",
   "metadata": {},
   "source": [
    "### Problem Statement\n",
    "- The following is purely hypothetical. \n",
    "- **We have quant developers in 10 countries and we want to have 24 hours trading coverage**\n",
    "    - Original QD count\n",
    "        - Singapore: 4\n",
    "        - London: 4\n",
    "        - New York: 4\n",
    "        - Vietnam: 3\n",
    "        - India: 3\n",
    "        - Hong Kong: 2\n",
    "        - Indonesia: 2\n",
    "        - Malaysia: 2\n",
    "        - Taiwan: 2\n",
    "        - Korea: 3\n",
    "    - Asia coverage: we must have at least 6 quant developers at any point in time\n",
    "        - Only Singapore, Vietnam, India, Hong Kong, Indonesia, Malaysia, Taiwan and Korea can handle Asia time zone\n",
    "    - UK coverage: we must have at least 4 quant developers at any point in time\n",
    "        - Only London and New York can handle UK time zone\n",
    "        - Singapore, Hong Kong, India and Vietnam can handle UK time zone at 20% extra compensation\n",
    "    - US coverage: we must have at least 4 quant developers at any point in time\n",
    "        - Only London and New York can handle US time zone\n",
    "        - Singapore, Hong Kong and India can handle US time zone at 30% extra compensation\n",
    "    - New QD count: after leave/medical/resignations\n",
    "        - Singapore: 1\n",
    "        - London: 1\n",
    "        - New York: 1\n",
    "        - Vietnam: 3\n",
    "        - India: 3\n",
    "        - Hong Kong: 2\n",
    "        - Indonesia: 2\n",
    "        - Malaysia: 2\n",
    "        - Taiwan: 2\n",
    "        - Korea: 3"
   ]
  },
  {
   "cell_type": "code",
   "execution_count": 10,
   "id": "bdc6e5a9-536e-425d-985d-f833cfae2c76",
   "metadata": {},
   "outputs": [],
   "source": []
  },
  {
   "cell_type": "code",
   "execution_count": null,
   "id": "a5601274-8701-49d5-8f62-2881dc42c3d3",
   "metadata": {},
   "outputs": [],
   "source": []
  },
  {
   "cell_type": "code",
   "execution_count": null,
   "id": "8afd48a8-79d9-443c-b1e9-bf05dbcfad98",
   "metadata": {},
   "outputs": [],
   "source": []
  },
  {
   "cell_type": "code",
   "execution_count": null,
   "id": "bf8ec82a-8b77-4f08-8c8e-53a7310dcb43",
   "metadata": {},
   "outputs": [],
   "source": []
  },
  {
   "cell_type": "code",
   "execution_count": null,
   "id": "8c0a09f7-3f70-47fe-a9a2-8446f7bdde01",
   "metadata": {},
   "outputs": [],
   "source": []
  }
 ],
 "metadata": {
  "kernelspec": {
   "display_name": "Python 3 (ipykernel)",
   "language": "python",
   "name": "python3"
  },
  "language_info": {
   "codemirror_mode": {
    "name": "ipython",
    "version": 3
   },
   "file_extension": ".py",
   "mimetype": "text/x-python",
   "name": "python",
   "nbconvert_exporter": "python",
   "pygments_lexer": "ipython3",
   "version": "3.9.7"
  }
 },
 "nbformat": 4,
 "nbformat_minor": 5
}
