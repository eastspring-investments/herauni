{
 "cells": [
  {
   "cell_type": "markdown",
   "id": "04535504-98a7-4d31-8752-58b59a7a23f4",
   "metadata": {},
   "source": [
    "# Page Rank"
   ]
  },
  {
   "cell_type": "code",
   "execution_count": 1,
   "id": "7b9f0faf-1b69-4d8d-82ca-e4362ce21929",
   "metadata": {},
   "outputs": [],
   "source": [
    "import matplotlib.pyplot as plt\n",
    "import networkx as nx\n",
    "import numpy as np\n",
    "import pandas as pd\n",
    "import operator"
   ]
  },
  {
   "cell_type": "markdown",
   "id": "56dd592d-03f3-48a6-8286-79352c74f0fd",
   "metadata": {},
   "source": [
    "## Eigenvector Centrality"
   ]
  },
  {
   "cell_type": "markdown",
   "id": "14d7e0e5-5c2f-4183-b986-803246f6e748",
   "metadata": {},
   "source": [
    "### Conceptual Idea\n",
    "- Let's say we have a small company called **VERY SMALL INC.** that has 100 customers and they have accounts receivable from all of them.\n",
    "- Let's say we have a big company called **VERY BIG BIG INC.** that has 100 customers and they have accounts receivable from all of them.\n",
    "    - How do we capture algorithmically that the big company is indeed more important than the smaller company?\n",
    "    - Using a basic network, and having each company with an importance value, we can gauge a company's important by observing how the company's importance is proportional to all the importances of the company's customers\n",
    "- This is eigenvector centrality!\n",
    "    - Each company's centrality is the sum of its neighbours centrality\n"
   ]
  },
  {
   "cell_type": "markdown",
   "id": "f06053d0-4544-4286-af14-acfabb1a729b",
   "metadata": {},
   "source": [
    "### Calculating\n",
    "- Get eigenvectors and eigenvalues from adjacency matrix\n",
    "- Take associated eigenvector from largest eigenvalue\n",
    "- Normalised it and that is the importance vector"
   ]
  },
  {
   "cell_type": "code",
   "execution_count": 58,
   "id": "8dabd1db-9d2a-4ea1-99fc-b989cfba1a43",
   "metadata": {},
   "outputs": [],
   "source": [
    "# Directed Adjacency Matrix\n",
    "adj_mat = np.asarray([\n",
    "    [0, 0, 1, 1],\n",
    "    [0, 0, 1, 1],\n",
    "    [1, 1, 0, 1],\n",
    "    [1, 1, 1, 0],\n",
    "])"
   ]
  },
  {
   "cell_type": "code",
   "execution_count": 66,
   "id": "f977a433-de08-4131-b953-6d3a5795c071",
   "metadata": {},
   "outputs": [
    {
     "data": {
      "text/plain": [
       "array([[ True,  True,  True,  True],\n",
       "       [ True,  True,  True,  True],\n",
       "       [ True,  True,  True,  True],\n",
       "       [ True,  True,  True,  True]])"
      ]
     },
     "execution_count": 66,
     "metadata": {},
     "output_type": "execute_result"
    }
   ],
   "source": [
    "# Check symmetry\n",
    "adj_mat == np.transpose(adj_mat)"
   ]
  },
  {
   "cell_type": "code",
   "execution_count": 67,
   "id": "e351b164-ba96-48da-8012-d9089c656e9d",
   "metadata": {},
   "outputs": [],
   "source": [
    "g = nx.from_numpy_matrix(adj_mat)\n",
    "pos = nx.spring_layout(g, seed=1)"
   ]
  },
  {
   "cell_type": "code",
   "execution_count": 68,
   "id": "32bed80c-3879-4e50-b887-44c6a678661f",
   "metadata": {},
   "outputs": [
    {
     "data": {
      "image/png": "[encoded data removed]",
      "text/plain": [
       "<Figure size 360x360 with 1 Axes>"
      ]
     },
     "metadata": {},
     "output_type": "display_data"
    }
   ],
   "source": [
    "plt.subplots(figsize=(5, 5))\n",
    "plt.axis('off')\n",
    "nx.draw(g, pos, with_labels=True)\n",
    "plt.show()"
   ]
  },
  {
   "cell_type": "code",
   "execution_count": 69,
   "id": "0eaa5a9c-dec9-44be-8732-b4cc9bbb6181",
   "metadata": {},
   "outputs": [
    {
     "name": "stdout",
     "output_type": "stream",
     "text": [
      "The stochastic matrix\n",
      "[[0.         0.         0.5        0.5       ]\n",
      " [0.         0.         0.5        0.5       ]\n",
      " [0.33333333 0.33333333 0.         0.33333333]\n",
      " [0.33333333 0.33333333 0.33333333 0.        ]]\n"
     ]
    }
   ],
   "source": [
    "# get the norm of adjacency matrix\n",
    "norm_adj_mat = np.sum(adj_mat, axis=1).reshape(-1, 1)\n",
    "# norm_adj_mat = np.sum(adj_mat, axis=1)\n",
    "# create the weight matrix by dividing the norm\n",
    "stoch_mat = adj_mat / norm_adj_mat\n",
    "\n",
    "print(\"The stochastic matrix\")\n",
    "print(stoch_mat)"
   ]
  },
  {
   "cell_type": "code",
   "execution_count": 70,
   "id": "00bffe25-cb0b-461b-8a62-9b3673717d4e",
   "metadata": {},
   "outputs": [
    {
     "name": "stdout",
     "output_type": "stream",
     "text": [
      "Largest eigenvalue: 0.8538509376029435\n",
      "Largest eigenvector: [0.43516215 0.43516215 0.55734541 0.55734541]\n"
     ]
    }
   ],
   "source": [
    "# The eigenvalues can be calculated using eigsh since we know the adjacency matrix must be symmetry\n",
    "eigen_val, eigen_vec = np.linalg.eigh(stoch_mat)\n",
    "\n",
    "# Get the largest and smallest eigenvalues, and the corresponding index from the returned values\n",
    "max_index, max_value = max(enumerate(eigen_val), key=operator.itemgetter(1))\n",
    "\n",
    "# Since the adjacency matrix must be a square matrix, the eigenvalue and vector will not be complex\n",
    "print(\"Largest eigenvalue:\", max_value)\n",
    "print(\"Largest eigenvector:\", eigen_vec[:, max_index])"
   ]
  },
  {
   "cell_type": "code",
   "execution_count": 71,
   "id": "6b16294e-ddbc-49e6-86da-835eb21c166a",
   "metadata": {},
   "outputs": [
    {
     "data": {
      "image/png": "[encoded data removed]",
      "text/plain": [
       "<Figure size 432x288 with 1 Axes>"
      ]
     },
     "metadata": {},
     "output_type": "display_data"
    }
   ],
   "source": [
    "nx.draw_networkx(g, pos=pos, node_color=list(eigen_vec[:, max_index]), node_size=500)"
   ]
  },
  {
   "cell_type": "markdown",
   "id": "107348b5-710b-494e-a70e-6e59514263a2",
   "metadata": {},
   "source": [
    "## Page Rank with Eigendecomposition\n",
    "- From the Perron-Frobenius theorem, as the matrix M is positive and column stochastic, the following statements hold.\n",
    "    - M has an eigenvalue 1 of multiplicity one.\n",
    "    - 1 is the largest eigenvalue: all the other eigenvalues have absolute values smaller than 1.\n",
    "    - For the eigenvalue 1, there exists a unique eigenvector with the sum of its entries equal to 1."
   ]
  },
  {
   "cell_type": "code",
   "execution_count": 84,
   "id": "65049b8d-1fcd-464a-ab92-c6ea1b3a05ce",
   "metadata": {},
   "outputs": [],
   "source": [
    "# Directed Adjacency Matrix\n",
    "adj_mat = np.asarray([\n",
    "    [0, 1, 0, 0, 0],\n",
    "    [1, 0, 0, 0, 1],\n",
    "    [0, 1, 0, 0, 1],\n",
    "    [0, 1, 0, 0, 1],\n",
    "    [0, 1, 1, 1, 0]\n",
    "])"
   ]
  },
  {
   "cell_type": "code",
   "execution_count": 85,
   "id": "4eae3a31-fe91-44f4-a8ef-cd08070230e1",
   "metadata": {},
   "outputs": [],
   "source": [
    "g = nx.from_numpy_matrix(adj_mat, create_using=nx.DiGraph())\n",
    "pos = nx.spring_layout(g, seed=1)"
   ]
  },
  {
   "cell_type": "code",
   "execution_count": 86,
   "id": "c32d8980-d76c-439c-b3f9-a6bb4e863a1e",
   "metadata": {},
   "outputs": [
    {
     "name": "stdout",
     "output_type": "stream",
     "text": [
      "The stochastic matrix\n",
      "[[0.         1.         0.         0.         0.        ]\n",
      " [0.5        0.         0.         0.         0.5       ]\n",
      " [0.         0.5        0.         0.         0.5       ]\n",
      " [0.         0.5        0.         0.         0.5       ]\n",
      " [0.         0.33333333 0.33333333 0.33333333 0.        ]]\n"
     ]
    }
   ],
   "source": [
    "# get the norm of adjacency matrix\n",
    "norm_adj_mat = np.sum(adj_mat, axis=1).reshape(-1, 1)\n",
    "# norm_adj_mat = np.sum(adj_mat, axis=1)\n",
    "# create the weight matrix by dividing the norm\n",
    "stoch_mat = adj_mat / norm_adj_mat\n",
    "\n",
    "print(\"The stochastic matrix\")\n",
    "print(stoch_mat)"
   ]
  },
  {
   "cell_type": "code",
   "execution_count": 87,
   "id": "3d990683-2d09-44b3-9328-28bb291b8955",
   "metadata": {},
   "outputs": [
    {
     "name": "stdout",
     "output_type": "stream",
     "text": [
      "The tranposed stochastic matrix\n",
      "[[0.         0.5        0.         0.         0.        ]\n",
      " [1.         0.         0.5        0.5        0.33333333]\n",
      " [0.         0.         0.         0.         0.33333333]\n",
      " [0.         0.         0.         0.         0.33333333]\n",
      " [0.         0.5        0.5        0.5        0.        ]]\n"
     ]
    }
   ],
   "source": [
    "stoch_mat_transpose = np.transpose(stoch_mat)\n",
    "print(\"The tranposed stochastic matrix\")\n",
    "print(stoch_mat_transpose)"
   ]
  },
  {
   "cell_type": "code",
   "execution_count": 108,
   "id": "6f7c9c79-3a4b-4b0c-b5c0-8e2389278f24",
   "metadata": {},
   "outputs": [],
   "source": [
    "eigen_val, eigen_vec = np.linalg.eig(stoch_mat_transpose)"
   ]
  },
  {
   "cell_type": "code",
   "execution_count": 109,
   "id": "7a0c8d3f-e7a5-46da-bd11-614dc5272ce3",
   "metadata": {},
   "outputs": [
    {
     "name": "stdout",
     "output_type": "stream",
     "text": [
      "[[-0.3592106 +0.j]\n",
      " [-0.71842121+0.j]\n",
      " [-0.1796053 +0.j]\n",
      " [-0.1796053 +0.j]\n",
      " [-0.53881591+0.j]]\n",
      "-----\n",
      "[[0.18181818-0.j]\n",
      " [0.36363636-0.j]\n",
      " [0.09090909-0.j]\n",
      " [0.09090909-0.j]\n",
      " [0.27272727-0.j]]\n",
      "-----\n"
     ]
    }
   ],
   "source": [
    "# Get eigenvector\n",
    "v = eigen_vec[:, abs(eigen_val-1) < 1.e-14]\n",
    "print(v)\n",
    "\n",
    "# Get page rank: probability distribution\n",
    "r = v / v.sum()\n",
    "print('-'*5)\n",
    "print(r)\n",
    "print('-'*5)"
   ]
  },
  {
   "cell_type": "code",
   "execution_count": 104,
   "id": "d4bc612d-2593-4254-9ae8-2833fcd1d709",
   "metadata": {},
   "outputs": [
    {
     "data": {
      "image/png": "[encoded data removed]",
      "text/plain": [
       "<Figure size 432x288 with 1 Axes>"
      ]
     },
     "metadata": {},
     "output_type": "display_data"
    }
   ],
   "source": [
    "nx.draw_networkx(g, pos=pos, node_color=np.real(r), node_size=500)"
   ]
  },
  {
   "cell_type": "code",
   "execution_count": 102,
   "id": "b3ed75a0-8681-4263-a0da-cb4d00b4c7d7",
   "metadata": {},
   "outputs": [
    {
     "data": {
      "text/plain": [
       "{0: 0.18181774385732596,\n",
       " 1: 0.3636371288525558,\n",
       " 2: 0.09090887716575069,\n",
       " 3: 0.09090887716575069,\n",
       " 4: 0.27272737295861604}"
      ]
     },
     "execution_count": 102,
     "metadata": {},
     "output_type": "execute_result"
    }
   ],
   "source": [
    "# lets compute pagerank centrality\n",
    "centrality = nx.pagerank(g, alpha=1.0)\n",
    "centrality"
   ]
  },
  {
   "cell_type": "markdown",
   "id": "4b643f7d-8fea-4a1a-ad84-72faab050d70",
   "metadata": {},
   "source": [
    "## Page Rank with Power Iteration"
   ]
  },
  {
   "cell_type": "code",
   "execution_count": 110,
   "id": "62cf7416-2d0a-44c5-9efd-5202aa87b5e0",
   "metadata": {},
   "outputs": [],
   "source": [
    "# Directed Adjacency Matrix\n",
    "adj_mat = np.asarray([\n",
    "    [0, 1, 0, 0, 0],\n",
    "    [1, 0, 0, 0, 1],\n",
    "    [0, 1, 0, 0, 1],\n",
    "    [0, 1, 0, 0, 1],\n",
    "    [0, 1, 1, 1, 0]\n",
    "])"
   ]
  },
  {
   "cell_type": "code",
   "execution_count": 111,
   "id": "245f59fe-f9f7-4db1-8528-abe210c99fcc",
   "metadata": {},
   "outputs": [],
   "source": [
    "g = nx.from_numpy_matrix(adj_mat, create_using=nx.DiGraph())\n",
    "pos = nx.spring_layout(g, seed=1)"
   ]
  },
  {
   "cell_type": "code",
   "execution_count": 112,
   "id": "c9bf9c0d-a075-4a4a-984b-80daabda456d",
   "metadata": {},
   "outputs": [
    {
     "name": "stdout",
     "output_type": "stream",
     "text": [
      "The stochastic matrix\n",
      "[[0.         1.         0.         0.         0.        ]\n",
      " [0.5        0.         0.         0.         0.5       ]\n",
      " [0.         0.5        0.         0.         0.5       ]\n",
      " [0.         0.5        0.         0.         0.5       ]\n",
      " [0.         0.33333333 0.33333333 0.33333333 0.        ]]\n"
     ]
    }
   ],
   "source": [
    "# get the norm of adjacency matrix\n",
    "norm_adj_mat = np.sum(adj_mat, axis=1).reshape(-1, 1)\n",
    "# norm_adj_mat = np.sum(adj_mat, axis=1)\n",
    "# create the weight matrix by dividing the norm\n",
    "stoch_mat = adj_mat / norm_adj_mat\n",
    "\n",
    "print(\"The stochastic matrix\")\n",
    "print(stoch_mat)"
   ]
  },
  {
   "cell_type": "code",
   "execution_count": 113,
   "id": "78769a4f-dbbe-41fe-9f8e-8e1148ad4d63",
   "metadata": {},
   "outputs": [
    {
     "name": "stdout",
     "output_type": "stream",
     "text": [
      "The tranposed stochastic matrix\n",
      "[[0.         0.5        0.         0.         0.        ]\n",
      " [1.         0.         0.5        0.5        0.33333333]\n",
      " [0.         0.         0.         0.         0.33333333]\n",
      " [0.         0.         0.         0.         0.33333333]\n",
      " [0.         0.5        0.5        0.5        0.        ]]\n"
     ]
    }
   ],
   "source": [
    "stoch_mat_transpose = np.transpose(stoch_mat)\n",
    "print(\"The tranposed stochastic matrix\")\n",
    "print(stoch_mat_transpose)"
   ]
  },
  {
   "cell_type": "code",
   "execution_count": 116,
   "id": "8abdacf7-d309-44a9-b58e-7d2a7328e4a9",
   "metadata": {},
   "outputs": [
    {
     "data": {
      "text/plain": [
       "array([[0.18],\n",
       "       [0.36],\n",
       "       [0.09],\n",
       "       [0.09],\n",
       "       [0.27]])"
      ]
     },
     "execution_count": 116,
     "metadata": {},
     "output_type": "execute_result"
    }
   ],
   "source": [
    "# Power iteration\n",
    "r_next = np.matmul (stoch_mat_transpose, r)\n",
    "\n",
    "while (np.linalg.norm(r_next - r) > 0.0001):\n",
    "    r = np.matmul (w_t,r)\n",
    "    r_next = np.matmul (w_t,r)\n",
    "\n",
    "r = r / r.sum()\n",
    "np.real(np.round(r, decimals=2))"
   ]
  },
  {
   "cell_type": "markdown",
   "id": "43ba8ea4-e871-4d65-b205-0744172a80a9",
   "metadata": {},
   "source": [
    "## Google Page Rank with Power Iteration\n",
    "- Damping factor to ensure 100% convergence"
   ]
  },
  {
   "cell_type": "code",
   "execution_count": null,
   "id": "78d01f12-3df3-4849-8178-b0432568a499",
   "metadata": {},
   "outputs": [],
   "source": []
  },
  {
   "cell_type": "code",
   "execution_count": null,
   "id": "d282b1e3-73fa-40cf-bda0-2dfa29a1074d",
   "metadata": {},
   "outputs": [],
   "source": []
  },
  {
   "cell_type": "code",
   "execution_count": null,
   "id": "1aacf05e-a337-453d-8cb2-af7bc5a18810",
   "metadata": {},
   "outputs": [],
   "source": []
  }
 ],
 "metadata": {
  "kernelspec": {
   "display_name": "Python 3 (ipykernel)",
   "language": "python",
   "name": "python3"
  },
  "language_info": {
   "codemirror_mode": {
    "name": "ipython",
    "version": 3
   },
   "file_extension": ".py",
   "mimetype": "text/x-python",
   "name": "python",
   "nbconvert_exporter": "python",
   "pygments_lexer": "ipython3",
   "version": "3.9.7"
  }
 },
 "nbformat": 4,
 "nbformat_minor": 5
}
