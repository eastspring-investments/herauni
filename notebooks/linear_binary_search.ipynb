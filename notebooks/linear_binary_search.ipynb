{
 "cells": [
  {
   "cell_type": "markdown",
   "id": "918c333e-294a-4377-a219-9b67d22b72e5",
   "metadata": {},
   "source": [
    "# Basic Search\n",
    "[![Open In Colab](https://colab.research.google.com/assets/colab-badge.svg)](https://colab.research.google.com/github/eastspring-investments/herauni/blob/main/notebooks/linear_binary_search.ipynb)"
   ]
  },
  {
   "cell_type": "markdown",
   "id": "1f9acde8-efe7-453d-ad2b-4fd7c629d029",
   "metadata": {
    "tags": []
   },
   "source": [
    "## Linear Search\n",
    "- Pseudo-code\n",
    "    - Search first element, if match, exit, else continue to the next element until match is found.\n",
    "- Worst case of $O(n)$"
   ]
  },
  {
   "cell_type": "code",
   "execution_count": 24,
   "id": "314cd2bd-308f-4039-a465-25afc01a99d5",
   "metadata": {},
   "outputs": [],
   "source": [
    "def search_linear(input_list, search_value):\n",
    "    idx = 0\n",
    "    for element in input_list:\n",
    "        idx += 1\n",
    "        if element == search_value:\n",
    "            return True, idx\n",
    "    \n",
    "    return False"
   ]
  },
  {
   "cell_type": "code",
   "execution_count": 28,
   "id": "ba27a680-9697-4b87-a498-662fa2aa7014",
   "metadata": {},
   "outputs": [
    {
     "data": {
      "text/plain": [
       "(True, 10)"
      ]
     },
     "execution_count": 28,
     "metadata": {},
     "output_type": "execute_result"
    }
   ],
   "source": [
    "search_linear([1, 2, 3, 4, 5, 6, 7, 8, 9, 10], 10)"
   ]
  },
  {
   "cell_type": "markdown",
   "id": "df9dfb0f-171d-4131-9ebe-a34a8f9abed8",
   "metadata": {
    "tags": []
   },
   "source": [
    "## Binary Search\n",
    "- Works only for sorted list\n",
    "- Pseudo-code\n",
    "    - Pick index half of the length of the list.\n",
    "        - If indexed value matches the value, exit.\n",
    "        - If indexed value **is more** than the value we're seeking, continue search loop on the lower half of the list. \n",
    "        - If indexed value **is less** than the value we're seeking, continue search loop on the upper half of the list.\n",
    "- Worst case of $O\\log(n)$"
   ]
  },
  {
   "cell_type": "code",
   "execution_count": 15,
   "id": "1238046c-a089-4981-9001-da14d674525c",
   "metadata": {},
   "outputs": [],
   "source": [
    "def search_binary(input_sorted_list, search_value):\n",
    "    low_idx = 0 \n",
    "    high_idx = len(input_sorted_list) - 1\n",
    "    idx = 0\n",
    "    \n",
    "    while low_idx <= high_idx:\n",
    "        idx += 1\n",
    "        mid_idx = (low_idx + high_idx) // 2\n",
    "        approx = input_sorted_list[mid_idx]\n",
    "        if approx == search_value:\n",
    "            return True, idx\n",
    "        elif approx > search_value:\n",
    "            high_idx = mid_idx - 1\n",
    "        else:\n",
    "            low_idx = mid_idx + 1\n",
    "        \n",
    "    # All fail\n",
    "    return False, idx\n",
    "    \n",
    "        "
   ]
  },
  {
   "cell_type": "code",
   "execution_count": 29,
   "id": "1a4df30d-2c8d-4272-b133-ee1af48644ba",
   "metadata": {},
   "outputs": [
    {
     "data": {
      "text/plain": [
       "(True, 4)"
      ]
     },
     "execution_count": 29,
     "metadata": {},
     "output_type": "execute_result"
    }
   ],
   "source": [
    "search_binary([1, 2, 3, 4, 5, 6, 7, 8, 9, 10], 10)"
   ]
  },
  {
   "cell_type": "code",
   "execution_count": null,
   "id": "b832db55-58e1-4206-8d2f-3bbf6bab4240",
   "metadata": {},
   "outputs": [],
   "source": []
  }
 ],
 "metadata": {
  "kernelspec": {
   "display_name": "Python 3 (ipykernel)",
   "language": "python",
   "name": "python3"
  },
  "language_info": {
   "codemirror_mode": {
    "name": "ipython",
    "version": 3
   },
   "file_extension": ".py",
   "mimetype": "text/x-python",
   "name": "python",
   "nbconvert_exporter": "python",
   "pygments_lexer": "ipython3",
   "version": "3.9.7"
  }
 },
 "nbformat": 4,
 "nbformat_minor": 5
}
